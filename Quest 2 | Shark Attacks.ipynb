{
 "cells": [
  {
   "cell_type": "code",
   "execution_count": 1,
   "id": "1713334f",
   "metadata": {},
   "outputs": [],
   "source": [
    "# Import necessary libraries\n",
    "import numpy as np\n",
    "import pandas as pd\n",
    "\n",
    "df = pd.read_excel(\"GSAF5.xls\")"
   ]
  },
  {
   "cell_type": "code",
   "execution_count": 2,
   "id": "012fc886",
   "metadata": {},
   "outputs": [
    {
     "data": {
      "text/html": [
       "<div>\n",
       "<style scoped>\n",
       "    .dataframe tbody tr th:only-of-type {\n",
       "        vertical-align: middle;\n",
       "    }\n",
       "\n",
       "    .dataframe tbody tr th {\n",
       "        vertical-align: top;\n",
       "    }\n",
       "\n",
       "    .dataframe thead th {\n",
       "        text-align: right;\n",
       "    }\n",
       "</style>\n",
       "<table border=\"1\" class=\"dataframe\">\n",
       "  <thead>\n",
       "    <tr style=\"text-align: right;\">\n",
       "      <th></th>\n",
       "      <th>Date</th>\n",
       "      <th>Year</th>\n",
       "      <th>Type</th>\n",
       "      <th>Country</th>\n",
       "      <th>State</th>\n",
       "      <th>Location</th>\n",
       "      <th>Activity</th>\n",
       "      <th>Name</th>\n",
       "      <th>Sex</th>\n",
       "      <th>Age</th>\n",
       "      <th>...</th>\n",
       "      <th>Species</th>\n",
       "      <th>Source</th>\n",
       "      <th>pdf</th>\n",
       "      <th>href formula</th>\n",
       "      <th>href</th>\n",
       "      <th>Case Number</th>\n",
       "      <th>Case Number.1</th>\n",
       "      <th>original order</th>\n",
       "      <th>Unnamed: 21</th>\n",
       "      <th>Unnamed: 22</th>\n",
       "    </tr>\n",
       "  </thead>\n",
       "  <tbody>\n",
       "    <tr>\n",
       "      <th>0</th>\n",
       "      <td>14 Feb-2024</td>\n",
       "      <td>2024.0</td>\n",
       "      <td>Unprovoked</td>\n",
       "      <td>INDIA</td>\n",
       "      <td>Maharashtra</td>\n",
       "      <td>Vaitarna River, Palghar District</td>\n",
       "      <td>Fishing</td>\n",
       "      <td>Vicky Suresh Govari</td>\n",
       "      <td>M</td>\n",
       "      <td>32</td>\n",
       "      <td>...</td>\n",
       "      <td>Bull shark, 7'</td>\n",
       "      <td>Times of India, 2/14/2024</td>\n",
       "      <td>NaN</td>\n",
       "      <td>NaN</td>\n",
       "      <td>NaN</td>\n",
       "      <td>NaN</td>\n",
       "      <td>NaN</td>\n",
       "      <td>NaN</td>\n",
       "      <td>NaN</td>\n",
       "      <td>NaN</td>\n",
       "    </tr>\n",
       "    <tr>\n",
       "      <th>1</th>\n",
       "      <td>04-Feb-2024</td>\n",
       "      <td>2024.0</td>\n",
       "      <td>Provoked</td>\n",
       "      <td>TRINIDAD</td>\n",
       "      <td>NaN</td>\n",
       "      <td>NaN</td>\n",
       "      <td>Spearfishing</td>\n",
       "      <td>male</td>\n",
       "      <td>M</td>\n",
       "      <td>NaN</td>\n",
       "      <td>...</td>\n",
       "      <td>Blacktip reef shark</td>\n",
       "      <td>Trinidad Guardian, 2/11/2014</td>\n",
       "      <td>NaN</td>\n",
       "      <td>NaN</td>\n",
       "      <td>NaN</td>\n",
       "      <td>NaN</td>\n",
       "      <td>NaN</td>\n",
       "      <td>NaN</td>\n",
       "      <td>NaN</td>\n",
       "      <td>NaN</td>\n",
       "    </tr>\n",
       "    <tr>\n",
       "      <th>2</th>\n",
       "      <td>29 Jan-2024</td>\n",
       "      <td>2024.0</td>\n",
       "      <td>Unprovoked</td>\n",
       "      <td>AUSTRALIA</td>\n",
       "      <td>New  South Wales</td>\n",
       "      <td>Elizabeth Bay, Sydney Harbor</td>\n",
       "      <td>Swimming</td>\n",
       "      <td>Lauren O'Neill</td>\n",
       "      <td>F</td>\n",
       "      <td>29</td>\n",
       "      <td>...</td>\n",
       "      <td>Bull shark</td>\n",
       "      <td>Nine News, 12/31/2024</td>\n",
       "      <td>NaN</td>\n",
       "      <td>NaN</td>\n",
       "      <td>NaN</td>\n",
       "      <td>NaN</td>\n",
       "      <td>NaN</td>\n",
       "      <td>NaN</td>\n",
       "      <td>NaN</td>\n",
       "      <td>NaN</td>\n",
       "    </tr>\n",
       "    <tr>\n",
       "      <th>3</th>\n",
       "      <td>15 Jan-2024</td>\n",
       "      <td>2024.0</td>\n",
       "      <td>Unprovoked</td>\n",
       "      <td>BAHAMAS</td>\n",
       "      <td>Paradise Island</td>\n",
       "      <td>Paradise Island Resort</td>\n",
       "      <td>Swimming</td>\n",
       "      <td>male</td>\n",
       "      <td>M</td>\n",
       "      <td>10</td>\n",
       "      <td>...</td>\n",
       "      <td>NaN</td>\n",
       "      <td>Caribbean Loop News, 1/15;2024</td>\n",
       "      <td>NaN</td>\n",
       "      <td>NaN</td>\n",
       "      <td>NaN</td>\n",
       "      <td>NaN</td>\n",
       "      <td>NaN</td>\n",
       "      <td>NaN</td>\n",
       "      <td>NaN</td>\n",
       "      <td>NaN</td>\n",
       "    </tr>\n",
       "    <tr>\n",
       "      <th>4</th>\n",
       "      <td>09-Jan-2024</td>\n",
       "      <td>2024.0</td>\n",
       "      <td>Unprovoked</td>\n",
       "      <td>AUSTRALIA</td>\n",
       "      <td>South Australia</td>\n",
       "      <td>Walkers Beach, Elliston</td>\n",
       "      <td>Surfing</td>\n",
       "      <td>Murray Adams</td>\n",
       "      <td>M</td>\n",
       "      <td>64</td>\n",
       "      <td>...</td>\n",
       "      <td>White shark</td>\n",
       "      <td>A. Currie, GSAF</td>\n",
       "      <td>NaN</td>\n",
       "      <td>NaN</td>\n",
       "      <td>NaN</td>\n",
       "      <td>NaN</td>\n",
       "      <td>NaN</td>\n",
       "      <td>NaN</td>\n",
       "      <td>NaN</td>\n",
       "      <td>NaN</td>\n",
       "    </tr>\n",
       "  </tbody>\n",
       "</table>\n",
       "<p>5 rows × 23 columns</p>\n",
       "</div>"
      ],
      "text/plain": [
       "          Date    Year        Type    Country             State  \\\n",
       "0  14 Feb-2024  2024.0  Unprovoked      INDIA       Maharashtra   \n",
       "1  04-Feb-2024  2024.0    Provoked   TRINIDAD               NaN   \n",
       "2  29 Jan-2024  2024.0  Unprovoked  AUSTRALIA  New  South Wales   \n",
       "3  15 Jan-2024  2024.0  Unprovoked    BAHAMAS   Paradise Island   \n",
       "4  09-Jan-2024  2024.0  Unprovoked  AUSTRALIA   South Australia   \n",
       "\n",
       "                           Location      Activity                 Name Sex  \\\n",
       "0  Vaitarna River, Palghar District       Fishing  Vicky Suresh Govari   M   \n",
       "1                               NaN  Spearfishing                 male   M   \n",
       "2      Elizabeth Bay, Sydney Harbor      Swimming       Lauren O'Neill   F   \n",
       "3            Paradise Island Resort      Swimming                 male   M   \n",
       "4           Walkers Beach, Elliston       Surfing         Murray Adams   M   \n",
       "\n",
       "   Age  ...             Species                            Source  pdf  \\\n",
       "0   32  ...       Bull shark, 7'        Times of India, 2/14/2024  NaN   \n",
       "1  NaN  ...  Blacktip reef shark     Trinidad Guardian, 2/11/2014  NaN   \n",
       "2   29  ...           Bull shark            Nine News, 12/31/2024  NaN   \n",
       "3   10  ...                  NaN  Caribbean Loop News, 1/15;2024   NaN   \n",
       "4   64  ...          White shark                  A. Currie, GSAF  NaN   \n",
       "\n",
       "  href formula href Case Number Case Number.1 original order Unnamed: 21  \\\n",
       "0          NaN  NaN         NaN           NaN            NaN         NaN   \n",
       "1          NaN  NaN         NaN           NaN            NaN         NaN   \n",
       "2          NaN  NaN         NaN           NaN            NaN         NaN   \n",
       "3          NaN  NaN         NaN           NaN            NaN         NaN   \n",
       "4          NaN  NaN         NaN           NaN            NaN         NaN   \n",
       "\n",
       "  Unnamed: 22  \n",
       "0         NaN  \n",
       "1         NaN  \n",
       "2         NaN  \n",
       "3         NaN  \n",
       "4         NaN  \n",
       "\n",
       "[5 rows x 23 columns]"
      ]
     },
     "metadata": {},
     "output_type": "display_data"
    }
   ],
   "source": [
    "# Display first few rows of the dataframe\n",
    "display(df.head())"
   ]
  },
  {
   "cell_type": "code",
   "execution_count": 3,
   "id": "3ccbdda3",
   "metadata": {},
   "outputs": [
    {
     "data": {
      "text/html": [
       "<div>\n",
       "<style scoped>\n",
       "    .dataframe tbody tr th:only-of-type {\n",
       "        vertical-align: middle;\n",
       "    }\n",
       "\n",
       "    .dataframe tbody tr th {\n",
       "        vertical-align: top;\n",
       "    }\n",
       "\n",
       "    .dataframe thead th {\n",
       "        text-align: right;\n",
       "    }\n",
       "</style>\n",
       "<table border=\"1\" class=\"dataframe\">\n",
       "  <thead>\n",
       "    <tr style=\"text-align: right;\">\n",
       "      <th></th>\n",
       "      <th>Date</th>\n",
       "      <th>Year</th>\n",
       "      <th>Type</th>\n",
       "      <th>Country</th>\n",
       "      <th>State</th>\n",
       "      <th>Location</th>\n",
       "      <th>Activity</th>\n",
       "      <th>Name</th>\n",
       "      <th>Sex</th>\n",
       "      <th>Age</th>\n",
       "      <th>...</th>\n",
       "      <th>Species</th>\n",
       "      <th>Source</th>\n",
       "      <th>pdf</th>\n",
       "      <th>href formula</th>\n",
       "      <th>href</th>\n",
       "      <th>Case Number</th>\n",
       "      <th>Case Number.1</th>\n",
       "      <th>original order</th>\n",
       "      <th>Unnamed: 21</th>\n",
       "      <th>Unnamed: 22</th>\n",
       "    </tr>\n",
       "  </thead>\n",
       "  <tbody>\n",
       "    <tr>\n",
       "      <th>count</th>\n",
       "      <td>6940.0</td>\n",
       "      <td>6938.000000</td>\n",
       "      <td>6922</td>\n",
       "      <td>6890</td>\n",
       "      <td>6458</td>\n",
       "      <td>6375</td>\n",
       "      <td>6355</td>\n",
       "      <td>6721</td>\n",
       "      <td>6361</td>\n",
       "      <td>3947.0</td>\n",
       "      <td>...</td>\n",
       "      <td>3808</td>\n",
       "      <td>6921</td>\n",
       "      <td>6799</td>\n",
       "      <td>6819</td>\n",
       "      <td>6796</td>\n",
       "      <td>6798</td>\n",
       "      <td>6797</td>\n",
       "      <td>6799.000000</td>\n",
       "      <td>1</td>\n",
       "      <td>2</td>\n",
       "    </tr>\n",
       "    <tr>\n",
       "      <th>unique</th>\n",
       "      <td>5999.0</td>\n",
       "      <td>NaN</td>\n",
       "      <td>12</td>\n",
       "      <td>225</td>\n",
       "      <td>902</td>\n",
       "      <td>4510</td>\n",
       "      <td>1587</td>\n",
       "      <td>5681</td>\n",
       "      <td>8</td>\n",
       "      <td>243.0</td>\n",
       "      <td>...</td>\n",
       "      <td>1674</td>\n",
       "      <td>5298</td>\n",
       "      <td>6789</td>\n",
       "      <td>6785</td>\n",
       "      <td>6776</td>\n",
       "      <td>6777</td>\n",
       "      <td>6775</td>\n",
       "      <td>NaN</td>\n",
       "      <td>1</td>\n",
       "      <td>2</td>\n",
       "    </tr>\n",
       "    <tr>\n",
       "      <th>top</th>\n",
       "      <td>1957.0</td>\n",
       "      <td>NaN</td>\n",
       "      <td>Unprovoked</td>\n",
       "      <td>USA</td>\n",
       "      <td>Florida</td>\n",
       "      <td>New Smyrna Beach, Volusia County</td>\n",
       "      <td>Surfing</td>\n",
       "      <td>male</td>\n",
       "      <td>M</td>\n",
       "      <td>19.0</td>\n",
       "      <td>...</td>\n",
       "      <td>White shark</td>\n",
       "      <td>K. McMurray, TrackingSharks.com</td>\n",
       "      <td>1907.10.16.R-HongKong.pdf</td>\n",
       "      <td>http://sharkattackfile.net/spreadsheets/pdf_di...</td>\n",
       "      <td>http://sharkattackfile.net/spreadsheets/pdf_di...</td>\n",
       "      <td>2021.07.23</td>\n",
       "      <td>2012.09.02.b</td>\n",
       "      <td>NaN</td>\n",
       "      <td>stopped here</td>\n",
       "      <td>Teramo</td>\n",
       "    </tr>\n",
       "    <tr>\n",
       "      <th>freq</th>\n",
       "      <td>9.0</td>\n",
       "      <td>NaN</td>\n",
       "      <td>5103</td>\n",
       "      <td>2536</td>\n",
       "      <td>1178</td>\n",
       "      <td>191</td>\n",
       "      <td>1120</td>\n",
       "      <td>680</td>\n",
       "      <td>5577</td>\n",
       "      <td>89.0</td>\n",
       "      <td>...</td>\n",
       "      <td>194</td>\n",
       "      <td>131</td>\n",
       "      <td>2</td>\n",
       "      <td>25</td>\n",
       "      <td>4</td>\n",
       "      <td>2</td>\n",
       "      <td>2</td>\n",
       "      <td>NaN</td>\n",
       "      <td>1</td>\n",
       "      <td>1</td>\n",
       "    </tr>\n",
       "    <tr>\n",
       "      <th>mean</th>\n",
       "      <td>NaN</td>\n",
       "      <td>1934.351686</td>\n",
       "      <td>NaN</td>\n",
       "      <td>NaN</td>\n",
       "      <td>NaN</td>\n",
       "      <td>NaN</td>\n",
       "      <td>NaN</td>\n",
       "      <td>NaN</td>\n",
       "      <td>NaN</td>\n",
       "      <td>NaN</td>\n",
       "      <td>...</td>\n",
       "      <td>NaN</td>\n",
       "      <td>NaN</td>\n",
       "      <td>NaN</td>\n",
       "      <td>NaN</td>\n",
       "      <td>NaN</td>\n",
       "      <td>NaN</td>\n",
       "      <td>NaN</td>\n",
       "      <td>3401.152081</td>\n",
       "      <td>NaN</td>\n",
       "      <td>NaN</td>\n",
       "    </tr>\n",
       "    <tr>\n",
       "      <th>std</th>\n",
       "      <td>NaN</td>\n",
       "      <td>272.991147</td>\n",
       "      <td>NaN</td>\n",
       "      <td>NaN</td>\n",
       "      <td>NaN</td>\n",
       "      <td>NaN</td>\n",
       "      <td>NaN</td>\n",
       "      <td>NaN</td>\n",
       "      <td>NaN</td>\n",
       "      <td>NaN</td>\n",
       "      <td>...</td>\n",
       "      <td>NaN</td>\n",
       "      <td>NaN</td>\n",
       "      <td>NaN</td>\n",
       "      <td>NaN</td>\n",
       "      <td>NaN</td>\n",
       "      <td>NaN</td>\n",
       "      <td>NaN</td>\n",
       "      <td>1963.076319</td>\n",
       "      <td>NaN</td>\n",
       "      <td>NaN</td>\n",
       "    </tr>\n",
       "    <tr>\n",
       "      <th>min</th>\n",
       "      <td>NaN</td>\n",
       "      <td>0.000000</td>\n",
       "      <td>NaN</td>\n",
       "      <td>NaN</td>\n",
       "      <td>NaN</td>\n",
       "      <td>NaN</td>\n",
       "      <td>NaN</td>\n",
       "      <td>NaN</td>\n",
       "      <td>NaN</td>\n",
       "      <td>NaN</td>\n",
       "      <td>...</td>\n",
       "      <td>NaN</td>\n",
       "      <td>NaN</td>\n",
       "      <td>NaN</td>\n",
       "      <td>NaN</td>\n",
       "      <td>NaN</td>\n",
       "      <td>NaN</td>\n",
       "      <td>NaN</td>\n",
       "      <td>2.000000</td>\n",
       "      <td>NaN</td>\n",
       "      <td>NaN</td>\n",
       "    </tr>\n",
       "    <tr>\n",
       "      <th>25%</th>\n",
       "      <td>NaN</td>\n",
       "      <td>1947.000000</td>\n",
       "      <td>NaN</td>\n",
       "      <td>NaN</td>\n",
       "      <td>NaN</td>\n",
       "      <td>NaN</td>\n",
       "      <td>NaN</td>\n",
       "      <td>NaN</td>\n",
       "      <td>NaN</td>\n",
       "      <td>NaN</td>\n",
       "      <td>...</td>\n",
       "      <td>NaN</td>\n",
       "      <td>NaN</td>\n",
       "      <td>NaN</td>\n",
       "      <td>NaN</td>\n",
       "      <td>NaN</td>\n",
       "      <td>NaN</td>\n",
       "      <td>NaN</td>\n",
       "      <td>1701.500000</td>\n",
       "      <td>NaN</td>\n",
       "      <td>NaN</td>\n",
       "    </tr>\n",
       "    <tr>\n",
       "      <th>50%</th>\n",
       "      <td>NaN</td>\n",
       "      <td>1985.000000</td>\n",
       "      <td>NaN</td>\n",
       "      <td>NaN</td>\n",
       "      <td>NaN</td>\n",
       "      <td>NaN</td>\n",
       "      <td>NaN</td>\n",
       "      <td>NaN</td>\n",
       "      <td>NaN</td>\n",
       "      <td>NaN</td>\n",
       "      <td>...</td>\n",
       "      <td>NaN</td>\n",
       "      <td>NaN</td>\n",
       "      <td>NaN</td>\n",
       "      <td>NaN</td>\n",
       "      <td>NaN</td>\n",
       "      <td>NaN</td>\n",
       "      <td>NaN</td>\n",
       "      <td>3401.000000</td>\n",
       "      <td>NaN</td>\n",
       "      <td>NaN</td>\n",
       "    </tr>\n",
       "    <tr>\n",
       "      <th>75%</th>\n",
       "      <td>NaN</td>\n",
       "      <td>2009.000000</td>\n",
       "      <td>NaN</td>\n",
       "      <td>NaN</td>\n",
       "      <td>NaN</td>\n",
       "      <td>NaN</td>\n",
       "      <td>NaN</td>\n",
       "      <td>NaN</td>\n",
       "      <td>NaN</td>\n",
       "      <td>NaN</td>\n",
       "      <td>...</td>\n",
       "      <td>NaN</td>\n",
       "      <td>NaN</td>\n",
       "      <td>NaN</td>\n",
       "      <td>NaN</td>\n",
       "      <td>NaN</td>\n",
       "      <td>NaN</td>\n",
       "      <td>NaN</td>\n",
       "      <td>5100.500000</td>\n",
       "      <td>NaN</td>\n",
       "      <td>NaN</td>\n",
       "    </tr>\n",
       "    <tr>\n",
       "      <th>max</th>\n",
       "      <td>NaN</td>\n",
       "      <td>2024.000000</td>\n",
       "      <td>NaN</td>\n",
       "      <td>NaN</td>\n",
       "      <td>NaN</td>\n",
       "      <td>NaN</td>\n",
       "      <td>NaN</td>\n",
       "      <td>NaN</td>\n",
       "      <td>NaN</td>\n",
       "      <td>NaN</td>\n",
       "      <td>...</td>\n",
       "      <td>NaN</td>\n",
       "      <td>NaN</td>\n",
       "      <td>NaN</td>\n",
       "      <td>NaN</td>\n",
       "      <td>NaN</td>\n",
       "      <td>NaN</td>\n",
       "      <td>NaN</td>\n",
       "      <td>6802.000000</td>\n",
       "      <td>NaN</td>\n",
       "      <td>NaN</td>\n",
       "    </tr>\n",
       "  </tbody>\n",
       "</table>\n",
       "<p>11 rows × 23 columns</p>\n",
       "</div>"
      ],
      "text/plain": [
       "          Date         Year        Type Country    State  \\\n",
       "count   6940.0  6938.000000        6922    6890     6458   \n",
       "unique  5999.0          NaN          12     225      902   \n",
       "top     1957.0          NaN  Unprovoked     USA  Florida   \n",
       "freq       9.0          NaN        5103    2536     1178   \n",
       "mean       NaN  1934.351686         NaN     NaN      NaN   \n",
       "std        NaN   272.991147         NaN     NaN      NaN   \n",
       "min        NaN     0.000000         NaN     NaN      NaN   \n",
       "25%        NaN  1947.000000         NaN     NaN      NaN   \n",
       "50%        NaN  1985.000000         NaN     NaN      NaN   \n",
       "75%        NaN  2009.000000         NaN     NaN      NaN   \n",
       "max        NaN  2024.000000         NaN     NaN      NaN   \n",
       "\n",
       "                                Location Activity  Name   Sex     Age  ...  \\\n",
       "count                               6375     6355  6721  6361  3947.0  ...   \n",
       "unique                              4510     1587  5681     8   243.0  ...   \n",
       "top     New Smyrna Beach, Volusia County  Surfing  male     M    19.0  ...   \n",
       "freq                                 191     1120   680  5577    89.0  ...   \n",
       "mean                                 NaN      NaN   NaN   NaN     NaN  ...   \n",
       "std                                  NaN      NaN   NaN   NaN     NaN  ...   \n",
       "min                                  NaN      NaN   NaN   NaN     NaN  ...   \n",
       "25%                                  NaN      NaN   NaN   NaN     NaN  ...   \n",
       "50%                                  NaN      NaN   NaN   NaN     NaN  ...   \n",
       "75%                                  NaN      NaN   NaN   NaN     NaN  ...   \n",
       "max                                  NaN      NaN   NaN   NaN     NaN  ...   \n",
       "\n",
       "           Species                            Source  \\\n",
       "count          3808                             6921   \n",
       "unique         1674                             5298   \n",
       "top     White shark  K. McMurray, TrackingSharks.com   \n",
       "freq            194                              131   \n",
       "mean            NaN                              NaN   \n",
       "std             NaN                              NaN   \n",
       "min             NaN                              NaN   \n",
       "25%             NaN                              NaN   \n",
       "50%             NaN                              NaN   \n",
       "75%             NaN                              NaN   \n",
       "max             NaN                              NaN   \n",
       "\n",
       "                              pdf  \\\n",
       "count                        6799   \n",
       "unique                       6789   \n",
       "top     1907.10.16.R-HongKong.pdf   \n",
       "freq                            2   \n",
       "mean                          NaN   \n",
       "std                           NaN   \n",
       "min                           NaN   \n",
       "25%                           NaN   \n",
       "50%                           NaN   \n",
       "75%                           NaN   \n",
       "max                           NaN   \n",
       "\n",
       "                                             href formula  \\\n",
       "count                                                6819   \n",
       "unique                                               6785   \n",
       "top     http://sharkattackfile.net/spreadsheets/pdf_di...   \n",
       "freq                                                   25   \n",
       "mean                                                  NaN   \n",
       "std                                                   NaN   \n",
       "min                                                   NaN   \n",
       "25%                                                   NaN   \n",
       "50%                                                   NaN   \n",
       "75%                                                   NaN   \n",
       "max                                                   NaN   \n",
       "\n",
       "                                                     href Case Number  \\\n",
       "count                                                6796        6798   \n",
       "unique                                               6776        6777   \n",
       "top     http://sharkattackfile.net/spreadsheets/pdf_di...  2021.07.23   \n",
       "freq                                                    4           2   \n",
       "mean                                                  NaN         NaN   \n",
       "std                                                   NaN         NaN   \n",
       "min                                                   NaN         NaN   \n",
       "25%                                                   NaN         NaN   \n",
       "50%                                                   NaN         NaN   \n",
       "75%                                                   NaN         NaN   \n",
       "max                                                   NaN         NaN   \n",
       "\n",
       "       Case Number.1 original order   Unnamed: 21 Unnamed: 22  \n",
       "count           6797    6799.000000             1           2  \n",
       "unique          6775            NaN             1           2  \n",
       "top     2012.09.02.b            NaN  stopped here      Teramo  \n",
       "freq               2            NaN             1           1  \n",
       "mean             NaN    3401.152081           NaN         NaN  \n",
       "std              NaN    1963.076319           NaN         NaN  \n",
       "min              NaN       2.000000           NaN         NaN  \n",
       "25%              NaN    1701.500000           NaN         NaN  \n",
       "50%              NaN    3401.000000           NaN         NaN  \n",
       "75%              NaN    5100.500000           NaN         NaN  \n",
       "max              NaN    6802.000000           NaN         NaN  \n",
       "\n",
       "[11 rows x 23 columns]"
      ]
     },
     "execution_count": 3,
     "metadata": {},
     "output_type": "execute_result"
    }
   ],
   "source": [
    "# Get summary statistics of the dataframe\n",
    "df.describe(include=\"all\")"
   ]
  },
  {
   "cell_type": "code",
   "execution_count": 4,
   "id": "eac70838",
   "metadata": {},
   "outputs": [
    {
     "data": {
      "text/html": [
       "<div>\n",
       "<style scoped>\n",
       "    .dataframe tbody tr th:only-of-type {\n",
       "        vertical-align: middle;\n",
       "    }\n",
       "\n",
       "    .dataframe tbody tr th {\n",
       "        vertical-align: top;\n",
       "    }\n",
       "\n",
       "    .dataframe thead th {\n",
       "        text-align: right;\n",
       "    }\n",
       "</style>\n",
       "<table border=\"1\" class=\"dataframe\">\n",
       "  <thead>\n",
       "    <tr style=\"text-align: right;\">\n",
       "      <th></th>\n",
       "      <th>Injury</th>\n",
       "      <th>Species</th>\n",
       "    </tr>\n",
       "  </thead>\n",
       "  <tbody>\n",
       "    <tr>\n",
       "      <th>0</th>\n",
       "      <td>Calf of lower left leg injured</td>\n",
       "      <td>Bull shark, 7'</td>\n",
       "    </tr>\n",
       "    <tr>\n",
       "      <th>1</th>\n",
       "      <td>Shoulder bitten</td>\n",
       "      <td>Blacktip reef shark</td>\n",
       "    </tr>\n",
       "    <tr>\n",
       "      <th>2</th>\n",
       "      <td>Right leg bitten</td>\n",
       "      <td>Bull shark</td>\n",
       "    </tr>\n",
       "    <tr>\n",
       "      <th>3</th>\n",
       "      <td>Right leg injured</td>\n",
       "      <td>NaN</td>\n",
       "    </tr>\n",
       "    <tr>\n",
       "      <th>4</th>\n",
       "      <td>Leg bitten</td>\n",
       "      <td>White shark</td>\n",
       "    </tr>\n",
       "    <tr>\n",
       "      <th>...</th>\n",
       "      <td>...</td>\n",
       "      <td>...</td>\n",
       "    </tr>\n",
       "    <tr>\n",
       "      <th>6960</th>\n",
       "      <td>NaN</td>\n",
       "      <td>NaN</td>\n",
       "    </tr>\n",
       "    <tr>\n",
       "      <th>6961</th>\n",
       "      <td>NaN</td>\n",
       "      <td>NaN</td>\n",
       "    </tr>\n",
       "    <tr>\n",
       "      <th>6962</th>\n",
       "      <td>NaN</td>\n",
       "      <td>NaN</td>\n",
       "    </tr>\n",
       "    <tr>\n",
       "      <th>6963</th>\n",
       "      <td>NaN</td>\n",
       "      <td>NaN</td>\n",
       "    </tr>\n",
       "    <tr>\n",
       "      <th>6964</th>\n",
       "      <td>NaN</td>\n",
       "      <td>NaN</td>\n",
       "    </tr>\n",
       "  </tbody>\n",
       "</table>\n",
       "<p>6965 rows × 2 columns</p>\n",
       "</div>"
      ],
      "text/plain": [
       "                              Injury             Species \n",
       "0     Calf of lower left leg injured       Bull shark, 7'\n",
       "1                    Shoulder bitten  Blacktip reef shark\n",
       "2                   Right leg bitten           Bull shark\n",
       "3                 Right leg injured                   NaN\n",
       "4                         Leg bitten          White shark\n",
       "...                              ...                  ...\n",
       "6960                             NaN                  NaN\n",
       "6961                             NaN                  NaN\n",
       "6962                             NaN                  NaN\n",
       "6963                             NaN                  NaN\n",
       "6964                             NaN                  NaN\n",
       "\n",
       "[6965 rows x 2 columns]"
      ]
     },
     "execution_count": 4,
     "metadata": {},
     "output_type": "execute_result"
    }
   ],
   "source": [
    "# Select specific columns from the dataframe\n",
    "df[[\"Injury\", \"Species \"]]"
   ]
  },
  {
   "cell_type": "code",
   "execution_count": 5,
   "id": "3102ced2",
   "metadata": {},
   "outputs": [
    {
     "data": {
      "text/plain": [
       "Date              5999\n",
       "Year               259\n",
       "Type                12\n",
       "Country            225\n",
       "State              902\n",
       "Location          4510\n",
       "Activity          1587\n",
       "Name              5681\n",
       "Sex                  8\n",
       "Age                243\n",
       "Injury            4078\n",
       "Unnamed: 11         12\n",
       "Time               410\n",
       "Species           1674\n",
       "Source            5298\n",
       "pdf               6789\n",
       "href formula      6785\n",
       "href              6776\n",
       "Case Number       6777\n",
       "Case Number.1     6775\n",
       "original order    6797\n",
       "Unnamed: 21          1\n",
       "Unnamed: 22          2\n",
       "dtype: int64"
      ]
     },
     "execution_count": 5,
     "metadata": {},
     "output_type": "execute_result"
    }
   ],
   "source": [
    "# Count unique values in each column\n",
    "df.nunique()"
   ]
  },
  {
   "cell_type": "code",
   "execution_count": 6,
   "id": "c45c4daa",
   "metadata": {},
   "outputs": [
    {
     "data": {
      "text/plain": [
       "['Date',\n",
       " 'Year',\n",
       " 'Type',\n",
       " 'Country',\n",
       " 'State',\n",
       " 'Location',\n",
       " 'Activity',\n",
       " 'Name',\n",
       " 'Sex',\n",
       " 'Age',\n",
       " 'Injury',\n",
       " 'Unnamed: 11',\n",
       " 'Time',\n",
       " 'Species ',\n",
       " 'Source',\n",
       " 'pdf',\n",
       " 'href formula',\n",
       " 'href',\n",
       " 'Case Number',\n",
       " 'Case Number.1',\n",
       " 'original order',\n",
       " 'Unnamed: 21',\n",
       " 'Unnamed: 22']"
      ]
     },
     "execution_count": 6,
     "metadata": {},
     "output_type": "execute_result"
    }
   ],
   "source": [
    "# List all columns in the dataframe\n",
    "list(df.columns)"
   ]
  },
  {
   "cell_type": "code",
   "execution_count": 7,
   "id": "41b47f90",
   "metadata": {},
   "outputs": [
    {
     "data": {
      "text/plain": [
       "RangeIndex(start=0, stop=6965, step=1)"
      ]
     },
     "execution_count": 7,
     "metadata": {},
     "output_type": "execute_result"
    }
   ],
   "source": [
    "# Display the index of the dataframe\n",
    "df.index"
   ]
  },
  {
   "cell_type": "code",
   "execution_count": 8,
   "id": "c41a427d",
   "metadata": {},
   "outputs": [
    {
     "data": {
      "text/plain": [
       "Date               object\n",
       "Year              float64\n",
       "Type               object\n",
       "Country            object\n",
       "State              object\n",
       "Location           object\n",
       "Activity           object\n",
       "Name               object\n",
       "Sex                object\n",
       "Age                object\n",
       "Injury             object\n",
       "Unnamed: 11        object\n",
       "Time               object\n",
       "Species            object\n",
       "Source             object\n",
       "pdf                object\n",
       "href formula       object\n",
       "href               object\n",
       "Case Number        object\n",
       "Case Number.1      object\n",
       "original order    float64\n",
       "Unnamed: 21        object\n",
       "Unnamed: 22        object\n",
       "dtype: object"
      ]
     },
     "execution_count": 8,
     "metadata": {},
     "output_type": "execute_result"
    }
   ],
   "source": [
    "# Display datatypes of columns\n",
    "df.dtypes"
   ]
  },
  {
   "cell_type": "code",
   "execution_count": 9,
   "id": "c6ccf0b1",
   "metadata": {},
   "outputs": [
    {
     "data": {
      "text/plain": [
       "Date              True\n",
       "Year              True\n",
       "Type              True\n",
       "Country           True\n",
       "State             True\n",
       "Location          True\n",
       "Activity          True\n",
       "Name              True\n",
       "Sex               True\n",
       "Age               True\n",
       "Injury            True\n",
       "Unnamed: 11       True\n",
       "Time              True\n",
       "Species           True\n",
       "Source            True\n",
       "pdf               True\n",
       "href formula      True\n",
       "href              True\n",
       "Case Number       True\n",
       "Case Number.1     True\n",
       "original order    True\n",
       "Unnamed: 21       True\n",
       "Unnamed: 22       True\n",
       "dtype: bool"
      ]
     },
     "execution_count": 9,
     "metadata": {},
     "output_type": "execute_result"
    }
   ],
   "source": [
    "# Check for missing values in each column\n",
    "df.isna().any()"
   ]
  },
  {
   "cell_type": "code",
   "execution_count": 10,
   "id": "dba0a84e",
   "metadata": {},
   "outputs": [
    {
     "data": {
      "text/plain": [
       "Date                25\n",
       "Year                27\n",
       "Type                43\n",
       "Country             75\n",
       "State              507\n",
       "Location           590\n",
       "Activity           610\n",
       "Name               244\n",
       "Sex                604\n",
       "Age               3018\n",
       "Injury              60\n",
       "Unnamed: 11        586\n",
       "Time              3550\n",
       "Species           3157\n",
       "Source              44\n",
       "pdf                166\n",
       "href formula       146\n",
       "href               169\n",
       "Case Number        167\n",
       "Case Number.1      168\n",
       "original order     166\n",
       "Unnamed: 21       6964\n",
       "Unnamed: 22       6963\n",
       "dtype: int64"
      ]
     },
     "execution_count": 10,
     "metadata": {},
     "output_type": "execute_result"
    }
   ],
   "source": [
    "# Count missing values in each column\n",
    "df.isna().sum()"
   ]
  },
  {
   "cell_type": "code",
   "execution_count": 11,
   "id": "5193d6d5",
   "metadata": {},
   "outputs": [
    {
     "name": "stdout",
     "output_type": "stream",
     "text": [
      "<class 'pandas.core.frame.DataFrame'>\n",
      "RangeIndex: 6965 entries, 0 to 6964\n",
      "Data columns (total 23 columns):\n",
      " #   Column          Non-Null Count  Dtype  \n",
      "---  ------          --------------  -----  \n",
      " 0   Date            6940 non-null   object \n",
      " 1   Year            6938 non-null   float64\n",
      " 2   Type            6922 non-null   object \n",
      " 3   Country         6890 non-null   object \n",
      " 4   State           6458 non-null   object \n",
      " 5   Location        6375 non-null   object \n",
      " 6   Activity        6355 non-null   object \n",
      " 7   Name            6721 non-null   object \n",
      " 8   Sex             6361 non-null   object \n",
      " 9   Age             3947 non-null   object \n",
      " 10  Injury          6905 non-null   object \n",
      " 11  Unnamed: 11     6379 non-null   object \n",
      " 12  Time            3415 non-null   object \n",
      " 13  Species         3808 non-null   object \n",
      " 14  Source          6921 non-null   object \n",
      " 15  pdf             6799 non-null   object \n",
      " 16  href formula    6819 non-null   object \n",
      " 17  href            6796 non-null   object \n",
      " 18  Case Number     6798 non-null   object \n",
      " 19  Case Number.1   6797 non-null   object \n",
      " 20  original order  6799 non-null   float64\n",
      " 21  Unnamed: 21     1 non-null      object \n",
      " 22  Unnamed: 22     2 non-null      object \n",
      "dtypes: float64(2), object(21)\n",
      "memory usage: 1.2+ MB\n"
     ]
    }
   ],
   "source": [
    "# Display information about the dataframe\n",
    "df.info()"
   ]
  },
  {
   "cell_type": "code",
   "execution_count": 12,
   "id": "005c9f6c",
   "metadata": {},
   "outputs": [
    {
     "data": {
      "text/html": [
       "<div>\n",
       "<style scoped>\n",
       "    .dataframe tbody tr th:only-of-type {\n",
       "        vertical-align: middle;\n",
       "    }\n",
       "\n",
       "    .dataframe tbody tr th {\n",
       "        vertical-align: top;\n",
       "    }\n",
       "\n",
       "    .dataframe thead th {\n",
       "        text-align: right;\n",
       "    }\n",
       "</style>\n",
       "<table border=\"1\" class=\"dataframe\">\n",
       "  <thead>\n",
       "    <tr style=\"text-align: right;\">\n",
       "      <th></th>\n",
       "      <th>Year</th>\n",
       "      <th>original order</th>\n",
       "    </tr>\n",
       "  </thead>\n",
       "  <tbody>\n",
       "    <tr>\n",
       "      <th>count</th>\n",
       "      <td>6938.000000</td>\n",
       "      <td>6799.000000</td>\n",
       "    </tr>\n",
       "    <tr>\n",
       "      <th>mean</th>\n",
       "      <td>1934.351686</td>\n",
       "      <td>3401.152081</td>\n",
       "    </tr>\n",
       "    <tr>\n",
       "      <th>std</th>\n",
       "      <td>272.991147</td>\n",
       "      <td>1963.076319</td>\n",
       "    </tr>\n",
       "    <tr>\n",
       "      <th>min</th>\n",
       "      <td>0.000000</td>\n",
       "      <td>2.000000</td>\n",
       "    </tr>\n",
       "    <tr>\n",
       "      <th>25%</th>\n",
       "      <td>1947.000000</td>\n",
       "      <td>1701.500000</td>\n",
       "    </tr>\n",
       "    <tr>\n",
       "      <th>50%</th>\n",
       "      <td>1985.000000</td>\n",
       "      <td>3401.000000</td>\n",
       "    </tr>\n",
       "    <tr>\n",
       "      <th>75%</th>\n",
       "      <td>2009.000000</td>\n",
       "      <td>5100.500000</td>\n",
       "    </tr>\n",
       "    <tr>\n",
       "      <th>max</th>\n",
       "      <td>2024.000000</td>\n",
       "      <td>6802.000000</td>\n",
       "    </tr>\n",
       "  </tbody>\n",
       "</table>\n",
       "</div>"
      ],
      "text/plain": [
       "              Year  original order\n",
       "count  6938.000000     6799.000000\n",
       "mean   1934.351686     3401.152081\n",
       "std     272.991147     1963.076319\n",
       "min       0.000000        2.000000\n",
       "25%    1947.000000     1701.500000\n",
       "50%    1985.000000     3401.000000\n",
       "75%    2009.000000     5100.500000\n",
       "max    2024.000000     6802.000000"
      ]
     },
     "execution_count": 12,
     "metadata": {},
     "output_type": "execute_result"
    }
   ],
   "source": [
    "# Perform another round of summary statistics\n",
    "df.describe()"
   ]
  },
  {
   "cell_type": "code",
   "execution_count": 13,
   "id": "67afaa7a",
   "metadata": {},
   "outputs": [
    {
     "data": {
      "text/plain": [
       "True"
      ]
     },
     "execution_count": 13,
     "metadata": {},
     "output_type": "execute_result"
    }
   ],
   "source": [
    "# Check for duplicated rows\n",
    "df.duplicated().any()"
   ]
  },
  {
   "cell_type": "code",
   "execution_count": 14,
   "id": "a27babe2",
   "metadata": {},
   "outputs": [],
   "source": [
    "# Remove duplicate rows\n",
    "df.drop_duplicates(inplace=True)"
   ]
  },
  {
   "cell_type": "code",
   "execution_count": 15,
   "id": "fec8dca3",
   "metadata": {},
   "outputs": [
    {
     "name": "stdout",
     "output_type": "stream",
     "text": [
      "<class 'pandas.core.frame.DataFrame'>\n",
      "Index: 6941 entries, 0 to 6940\n",
      "Data columns (total 23 columns):\n",
      " #   Column          Non-Null Count  Dtype  \n",
      "---  ------          --------------  -----  \n",
      " 0   date            6940 non-null   object \n",
      " 1   year            6938 non-null   float64\n",
      " 2   type            6922 non-null   object \n",
      " 3   country         6890 non-null   object \n",
      " 4   state           6458 non-null   object \n",
      " 5   location        6375 non-null   object \n",
      " 6   activity        6355 non-null   object \n",
      " 7   name            6721 non-null   object \n",
      " 8   sex             6361 non-null   object \n",
      " 9   age             3947 non-null   object \n",
      " 10  injury          6905 non-null   object \n",
      " 11  unnamed:_11     6379 non-null   object \n",
      " 12  time            3415 non-null   object \n",
      " 13  species_        3808 non-null   object \n",
      " 14  source          6921 non-null   object \n",
      " 15  pdf             6799 non-null   object \n",
      " 16  href_formula    6795 non-null   object \n",
      " 17  href            6796 non-null   object \n",
      " 18  case_number     6798 non-null   object \n",
      " 19  case_number.1   6797 non-null   object \n",
      " 20  original_order  6799 non-null   float64\n",
      " 21  unnamed:_21     1 non-null      object \n",
      " 22  unnamed:_22     2 non-null      object \n",
      "dtypes: float64(2), object(21)\n",
      "memory usage: 1.3+ MB\n"
     ]
    }
   ],
   "source": [
    "# Replace spaces with underscores and convert column names to lowercase\n",
    "df.columns = [col.replace(\" \", \"_\").lower() for col in df.columns]\n",
    "df.info()"
   ]
  },
  {
   "cell_type": "code",
   "execution_count": 16,
   "id": "957165ea",
   "metadata": {},
   "outputs": [
    {
     "data": {
      "text/html": [
       "<div>\n",
       "<style scoped>\n",
       "    .dataframe tbody tr th:only-of-type {\n",
       "        vertical-align: middle;\n",
       "    }\n",
       "\n",
       "    .dataframe tbody tr th {\n",
       "        vertical-align: top;\n",
       "    }\n",
       "\n",
       "    .dataframe thead th {\n",
       "        text-align: right;\n",
       "    }\n",
       "</style>\n",
       "<table border=\"1\" class=\"dataframe\">\n",
       "  <thead>\n",
       "    <tr style=\"text-align: right;\">\n",
       "      <th></th>\n",
       "      <th>date</th>\n",
       "      <th>year</th>\n",
       "      <th>type</th>\n",
       "      <th>country</th>\n",
       "      <th>state</th>\n",
       "      <th>location</th>\n",
       "      <th>activity</th>\n",
       "      <th>name</th>\n",
       "      <th>sex</th>\n",
       "      <th>age</th>\n",
       "      <th>injury</th>\n",
       "      <th>time</th>\n",
       "      <th>species_</th>\n",
       "      <th>source</th>\n",
       "    </tr>\n",
       "  </thead>\n",
       "  <tbody>\n",
       "    <tr>\n",
       "      <th>0</th>\n",
       "      <td>14 Feb-2024</td>\n",
       "      <td>2024.0</td>\n",
       "      <td>Unprovoked</td>\n",
       "      <td>INDIA</td>\n",
       "      <td>Maharashtra</td>\n",
       "      <td>Vaitarna River, Palghar District</td>\n",
       "      <td>Fishing</td>\n",
       "      <td>Vicky Suresh Govari</td>\n",
       "      <td>M</td>\n",
       "      <td>32</td>\n",
       "      <td>Calf of lower left leg injured</td>\n",
       "      <td>NaN</td>\n",
       "      <td>Bull shark, 7'</td>\n",
       "      <td>Times of India, 2/14/2024</td>\n",
       "    </tr>\n",
       "    <tr>\n",
       "      <th>1</th>\n",
       "      <td>04-Feb-2024</td>\n",
       "      <td>2024.0</td>\n",
       "      <td>Provoked</td>\n",
       "      <td>TRINIDAD</td>\n",
       "      <td>NaN</td>\n",
       "      <td>NaN</td>\n",
       "      <td>Spearfishing</td>\n",
       "      <td>male</td>\n",
       "      <td>M</td>\n",
       "      <td>NaN</td>\n",
       "      <td>Shoulder bitten</td>\n",
       "      <td>06h30</td>\n",
       "      <td>Blacktip reef shark</td>\n",
       "      <td>Trinidad Guardian, 2/11/2014</td>\n",
       "    </tr>\n",
       "    <tr>\n",
       "      <th>2</th>\n",
       "      <td>29 Jan-2024</td>\n",
       "      <td>2024.0</td>\n",
       "      <td>Unprovoked</td>\n",
       "      <td>AUSTRALIA</td>\n",
       "      <td>New  South Wales</td>\n",
       "      <td>Elizabeth Bay, Sydney Harbor</td>\n",
       "      <td>Swimming</td>\n",
       "      <td>Lauren O'Neill</td>\n",
       "      <td>F</td>\n",
       "      <td>29</td>\n",
       "      <td>Right leg bitten</td>\n",
       "      <td>20h00</td>\n",
       "      <td>Bull shark</td>\n",
       "      <td>Nine News, 12/31/2024</td>\n",
       "    </tr>\n",
       "    <tr>\n",
       "      <th>3</th>\n",
       "      <td>15 Jan-2024</td>\n",
       "      <td>2024.0</td>\n",
       "      <td>Unprovoked</td>\n",
       "      <td>BAHAMAS</td>\n",
       "      <td>Paradise Island</td>\n",
       "      <td>Paradise Island Resort</td>\n",
       "      <td>Swimming</td>\n",
       "      <td>male</td>\n",
       "      <td>M</td>\n",
       "      <td>10</td>\n",
       "      <td>Right leg injured</td>\n",
       "      <td>16h00</td>\n",
       "      <td>NaN</td>\n",
       "      <td>Caribbean Loop News, 1/15;2024</td>\n",
       "    </tr>\n",
       "    <tr>\n",
       "      <th>4</th>\n",
       "      <td>09-Jan-2024</td>\n",
       "      <td>2024.0</td>\n",
       "      <td>Unprovoked</td>\n",
       "      <td>AUSTRALIA</td>\n",
       "      <td>South Australia</td>\n",
       "      <td>Walkers Beach, Elliston</td>\n",
       "      <td>Surfing</td>\n",
       "      <td>Murray Adams</td>\n",
       "      <td>M</td>\n",
       "      <td>64</td>\n",
       "      <td>Leg bitten</td>\n",
       "      <td>13h00</td>\n",
       "      <td>White shark</td>\n",
       "      <td>A. Currie, GSAF</td>\n",
       "    </tr>\n",
       "    <tr>\n",
       "      <th>...</th>\n",
       "      <td>...</td>\n",
       "      <td>...</td>\n",
       "      <td>...</td>\n",
       "      <td>...</td>\n",
       "      <td>...</td>\n",
       "      <td>...</td>\n",
       "      <td>...</td>\n",
       "      <td>...</td>\n",
       "      <td>...</td>\n",
       "      <td>...</td>\n",
       "      <td>...</td>\n",
       "      <td>...</td>\n",
       "      <td>...</td>\n",
       "      <td>...</td>\n",
       "    </tr>\n",
       "    <tr>\n",
       "      <th>6936</th>\n",
       "      <td>Before 1903</td>\n",
       "      <td>0.0</td>\n",
       "      <td>Unprovoked</td>\n",
       "      <td>AUSTRALIA</td>\n",
       "      <td>Western Australia</td>\n",
       "      <td>NaN</td>\n",
       "      <td>Pearl diving</td>\n",
       "      <td>Ahmun</td>\n",
       "      <td>M</td>\n",
       "      <td>NaN</td>\n",
       "      <td>FATAL</td>\n",
       "      <td>NaN</td>\n",
       "      <td>NaN</td>\n",
       "      <td>H. Taunton; N. Bartlett,  pp. 233-234</td>\n",
       "    </tr>\n",
       "    <tr>\n",
       "      <th>6937</th>\n",
       "      <td>1900-1905</td>\n",
       "      <td>0.0</td>\n",
       "      <td>Unprovoked</td>\n",
       "      <td>USA</td>\n",
       "      <td>North Carolina</td>\n",
       "      <td>Ocracoke Inlet</td>\n",
       "      <td>Swimming</td>\n",
       "      <td>Coast Guard personnel</td>\n",
       "      <td>M</td>\n",
       "      <td>NaN</td>\n",
       "      <td>FATAL</td>\n",
       "      <td>NaN</td>\n",
       "      <td>NaN</td>\n",
       "      <td>F. Schwartz, p.23; C. Creswell, GSAF</td>\n",
       "    </tr>\n",
       "    <tr>\n",
       "      <th>6938</th>\n",
       "      <td>1883-1889</td>\n",
       "      <td>0.0</td>\n",
       "      <td>Unprovoked</td>\n",
       "      <td>PANAMA</td>\n",
       "      <td>NaN</td>\n",
       "      <td>Panama Bay 8ºN, 79ºW</td>\n",
       "      <td>NaN</td>\n",
       "      <td>Jules Patterson</td>\n",
       "      <td>M</td>\n",
       "      <td>NaN</td>\n",
       "      <td>FATAL</td>\n",
       "      <td>NaN</td>\n",
       "      <td>NaN</td>\n",
       "      <td>The Sun, 10/20/1938</td>\n",
       "    </tr>\n",
       "    <tr>\n",
       "      <th>6939</th>\n",
       "      <td>1845-1853</td>\n",
       "      <td>0.0</td>\n",
       "      <td>Unprovoked</td>\n",
       "      <td>CEYLON (SRI LANKA)</td>\n",
       "      <td>Eastern Province</td>\n",
       "      <td>Below the English fort, Trincomalee</td>\n",
       "      <td>Swimming</td>\n",
       "      <td>male</td>\n",
       "      <td>M</td>\n",
       "      <td>15</td>\n",
       "      <td>FATAL. \"Shark bit him in half, carrying away t...</td>\n",
       "      <td>NaN</td>\n",
       "      <td>NaN</td>\n",
       "      <td>S.W. Baker</td>\n",
       "    </tr>\n",
       "    <tr>\n",
       "      <th>6940</th>\n",
       "      <td>NaN</td>\n",
       "      <td>NaN</td>\n",
       "      <td>NaN</td>\n",
       "      <td>NaN</td>\n",
       "      <td>NaN</td>\n",
       "      <td>NaN</td>\n",
       "      <td>NaN</td>\n",
       "      <td>NaN</td>\n",
       "      <td>NaN</td>\n",
       "      <td>NaN</td>\n",
       "      <td>NaN</td>\n",
       "      <td>NaN</td>\n",
       "      <td>NaN</td>\n",
       "      <td>NaN</td>\n",
       "    </tr>\n",
       "  </tbody>\n",
       "</table>\n",
       "<p>6941 rows × 14 columns</p>\n",
       "</div>"
      ],
      "text/plain": [
       "             date    year        type             country              state  \\\n",
       "0     14 Feb-2024  2024.0  Unprovoked               INDIA        Maharashtra   \n",
       "1     04-Feb-2024  2024.0    Provoked            TRINIDAD                NaN   \n",
       "2     29 Jan-2024  2024.0  Unprovoked           AUSTRALIA   New  South Wales   \n",
       "3     15 Jan-2024  2024.0  Unprovoked             BAHAMAS    Paradise Island   \n",
       "4     09-Jan-2024  2024.0  Unprovoked           AUSTRALIA    South Australia   \n",
       "...           ...     ...         ...                 ...                ...   \n",
       "6936  Before 1903     0.0  Unprovoked           AUSTRALIA  Western Australia   \n",
       "6937    1900-1905     0.0  Unprovoked                 USA     North Carolina   \n",
       "6938    1883-1889     0.0  Unprovoked              PANAMA                NaN   \n",
       "6939    1845-1853     0.0  Unprovoked  CEYLON (SRI LANKA)   Eastern Province   \n",
       "6940          NaN     NaN         NaN                 NaN                NaN   \n",
       "\n",
       "                                 location      activity  \\\n",
       "0        Vaitarna River, Palghar District       Fishing   \n",
       "1                                     NaN  Spearfishing   \n",
       "2            Elizabeth Bay, Sydney Harbor      Swimming   \n",
       "3                  Paradise Island Resort      Swimming   \n",
       "4                 Walkers Beach, Elliston       Surfing   \n",
       "...                                   ...           ...   \n",
       "6936                                  NaN  Pearl diving   \n",
       "6937                       Ocracoke Inlet      Swimming   \n",
       "6938                 Panama Bay 8ºN, 79ºW           NaN   \n",
       "6939  Below the English fort, Trincomalee      Swimming   \n",
       "6940                                  NaN           NaN   \n",
       "\n",
       "                       name  sex  age  \\\n",
       "0       Vicky Suresh Govari    M   32   \n",
       "1                      male    M  NaN   \n",
       "2            Lauren O'Neill    F   29   \n",
       "3                      male    M   10   \n",
       "4              Murray Adams    M   64   \n",
       "...                     ...  ...  ...   \n",
       "6936                  Ahmun    M  NaN   \n",
       "6937  Coast Guard personnel    M  NaN   \n",
       "6938        Jules Patterson    M  NaN   \n",
       "6939                   male    M   15   \n",
       "6940                    NaN  NaN  NaN   \n",
       "\n",
       "                                                 injury   time  \\\n",
       "0                        Calf of lower left leg injured    NaN   \n",
       "1                                       Shoulder bitten  06h30   \n",
       "2                                      Right leg bitten  20h00   \n",
       "3                                    Right leg injured   16h00   \n",
       "4                                            Leg bitten  13h00   \n",
       "...                                                 ...    ...   \n",
       "6936                                              FATAL    NaN   \n",
       "6937                                              FATAL    NaN   \n",
       "6938                                              FATAL    NaN   \n",
       "6939  FATAL. \"Shark bit him in half, carrying away t...    NaN   \n",
       "6940                                                NaN    NaN   \n",
       "\n",
       "                 species_                                 source  \n",
       "0          Bull shark, 7'              Times of India, 2/14/2024  \n",
       "1     Blacktip reef shark           Trinidad Guardian, 2/11/2014  \n",
       "2              Bull shark                  Nine News, 12/31/2024  \n",
       "3                     NaN        Caribbean Loop News, 1/15;2024   \n",
       "4             White shark                        A. Currie, GSAF  \n",
       "...                   ...                                    ...  \n",
       "6936                  NaN  H. Taunton; N. Bartlett,  pp. 233-234  \n",
       "6937                  NaN   F. Schwartz, p.23; C. Creswell, GSAF  \n",
       "6938                  NaN                    The Sun, 10/20/1938  \n",
       "6939                  NaN                             S.W. Baker  \n",
       "6940                  NaN                                    NaN  \n",
       "\n",
       "[6941 rows x 14 columns]"
      ]
     },
     "execution_count": 16,
     "metadata": {},
     "output_type": "execute_result"
    }
   ],
   "source": [
    "# Drop the columns we are not going to use\n",
    "df = df.drop((['unnamed:_11','pdf', 'href_formula','href', 'case_number', 'case_number.1', 'original_order', 'unnamed:_21', 'unnamed:_22']), axis = 1)\n",
    "df"
   ]
  },
  {
   "cell_type": "code",
   "execution_count": 17,
   "id": "7c4b812c",
   "metadata": {},
   "outputs": [],
   "source": [
    "# Filtering data from 2000 onwards\n",
    "df = df[df['year'] >= 2000]"
   ]
  },
  {
   "cell_type": "code",
   "execution_count": 18,
   "id": "dc22fd23",
   "metadata": {},
   "outputs": [
    {
     "data": {
      "text/plain": [
       "array(['M', 'F', nan, ' M', 'M ', 'lli'], dtype=object)"
      ]
     },
     "execution_count": 18,
     "metadata": {},
     "output_type": "execute_result"
    }
   ],
   "source": [
    "# Check unique values in the \"sex\" column\n",
    "df[\"sex\"].unique()"
   ]
  },
  {
   "cell_type": "code",
   "execution_count": 19,
   "id": "18069fb5",
   "metadata": {},
   "outputs": [
    {
     "data": {
      "text/plain": [
       "sex\n",
       "M      2089\n",
       "F       478\n",
       "M         2\n",
       " M        1\n",
       "lli       1\n",
       "Name: count, dtype: int64"
      ]
     },
     "execution_count": 19,
     "metadata": {},
     "output_type": "execute_result"
    }
   ],
   "source": [
    "df[\"sex\"].value_counts()"
   ]
  },
  {
   "cell_type": "code",
   "execution_count": 115,
   "id": "8145c876",
   "metadata": {},
   "outputs": [
    {
     "name": "stdout",
     "output_type": "stream",
     "text": [
      "                      date    year        type      country  \\\n",
      "0              14 Feb-2024  2024.0  Unprovoked        INDIA   \n",
      "1              04-Feb-2024  2024.0    Provoked     TRINIDAD   \n",
      "2              29 Jan-2024  2024.0  Unprovoked    AUSTRALIA   \n",
      "3              15 Jan-2024  2024.0  Unprovoked      BAHAMAS   \n",
      "4              09-Jan-2024  2024.0  Unprovoked    AUSTRALIA   \n",
      "...                    ...     ...         ...          ...   \n",
      "2685           03-Feb-2000  2000.0  Unprovoked  NEW ZEALAND   \n",
      "2686           01-Feb-2000  2000.0  Unprovoked    AUSTRALIA   \n",
      "2687  Reported 28-Jan-2000  2000.0  Watercraft      REUNION   \n",
      "2688           05-Jan-2000  2000.0  Unprovoked     THAILAND   \n",
      "2689                  2000  2000.0  Watercraft          USA   \n",
      "\n",
      "                   state                                           location  \\\n",
      "0            Maharashtra                   Vaitarna River, Palghar District   \n",
      "1                    NaN                                                NaN   \n",
      "2       New  South Wales                       Elizabeth Bay, Sydney Harbor   \n",
      "3        Paradise Island                             Paradise Island Resort   \n",
      "4        South Australia                            Walkers Beach, Elliston   \n",
      "...                  ...                                                ...   \n",
      "2685        South Island  Oreti Beach (reported as the 4th person bitten...   \n",
      "2686     South Australia           Point Sinclair, Cactus Beach near Penong   \n",
      "2687                 NaN                                       Saint Pierre   \n",
      "2688  Phang nga Province                                   Phang nga Island   \n",
      "2689             Florida                            Boca Grande, Lee County   \n",
      "\n",
      "                           activity                           name sex  age  \\\n",
      "0                           Fishing            Vicky Suresh Govari   M   32   \n",
      "1                      Spearfishing                           male   M  NaN   \n",
      "2                          Swimming                 Lauren O'Neill   F   29   \n",
      "3                          Swimming                           male   M   10   \n",
      "4                           Surfing                   Murray Adams   M   64   \n",
      "...                             ...                            ...  ..  ...   \n",
      "2685                        Surfing                  Michael Petas   M   12   \n",
      "2686                        Surfing                  Anthony Hayes   M   26   \n",
      "2687  Canoe with 3 men onboard sank              Boulabhaï Ishmael   M  NaN   \n",
      "2688                         Diving                   Stephan Kahl   M   35   \n",
      "2689             Fishing for tarpon  boat: occupant, Terry Winters   M  NaN   \n",
      "\n",
      "                                          injury   time             species_  \\\n",
      "0                 Calf of lower left leg injured    NaN       Bull shark, 7'   \n",
      "1                                Shoulder bitten  06h30  Blacktip reef shark   \n",
      "2                               Right leg bitten  20h00           Bull shark   \n",
      "3                             Right leg injured   16h00                  NaN   \n",
      "4                                     Leg bitten  13h00          White shark   \n",
      "...                                          ...    ...                  ...   \n",
      "2685                No injury, wetsuit punctured    NaN                  NaN   \n",
      "2686                                 Hand bitten    NaN      3 m [10'] shark   \n",
      "2687                                       FATAL    NaN                  NaN   \n",
      "2688                                       FATAL    NaN                  NaN   \n",
      "2689  No injury to occupant; shark bit propeller    NaN     Hammerhead shark   \n",
      "\n",
      "                                               source      fatal  \\\n",
      "0                           Times of India, 2/14/2024  Non-Fatal   \n",
      "1                        Trinidad Guardian, 2/11/2014  Non-Fatal   \n",
      "2                               Nine News, 12/31/2024  Non-Fatal   \n",
      "3                     Caribbean Loop News, 1/15;2024   Non-Fatal   \n",
      "4                                     A. Currie, GSAF  Non-Fatal   \n",
      "...                                               ...        ...   \n",
      "2685  Waikato Times; Southland Times, 10/23/1999, p.1  Non-Fatal   \n",
      "2686                                   T. Peake, GSAF  Non-Fatal   \n",
      "2687                                   B.L. du Vendre      Fatal   \n",
      "2688                                        A. Xuereb      Fatal   \n",
      "2689                   B. Stout, News-Press, 7/2/2005  Non-Fatal   \n",
      "\n",
      "                                              age_class activities_clean  \n",
      "0     <bound method NDFrame.copy of 0        32\\n1  ...          Fishing  \n",
      "1     <bound method NDFrame.copy of 0        32\\n1  ...          Fishing  \n",
      "2     <bound method NDFrame.copy of 0        32\\n1  ...         Swimming  \n",
      "3     <bound method NDFrame.copy of 0        32\\n1  ...         Swimming  \n",
      "4     <bound method NDFrame.copy of 0        32\\n1  ...          Surfing  \n",
      "...                                                 ...              ...  \n",
      "2685  <bound method NDFrame.copy of 0        32\\n1  ...          Surfing  \n",
      "2686  <bound method NDFrame.copy of 0        32\\n1  ...          Surfing  \n",
      "2687  <bound method NDFrame.copy of 0        32\\n1  ...            Other  \n",
      "2688  <bound method NDFrame.copy of 0        32\\n1  ...           Diving  \n",
      "2689  <bound method NDFrame.copy of 0        32\\n1  ...          Fishing  \n",
      "\n",
      "[2453 rows x 17 columns]\n"
     ]
    }
   ],
   "source": [
    "# Clean misspellings and inconsistencies in the \"sex\" column\n",
    "\n",
    "# Define misspellings and their replacements\n",
    "misspellings_mapping = {\n",
    "    'F': 'F',\n",
    "    ' M': 'M',\n",
    "    'M ': 'M',\n",
    "    'M x 2': 'M',\n",
    "    'M': 'M',\n",
    "}\n",
    "\n",
    "# Loop through the misspellings_mapping and perform replacements using .loc\n",
    "for misspelling, replacement in misspellings_mapping.items():\n",
    "    df.loc[df['sex'] == misspelling, 'sex'] = replacement\n",
    "    \n",
    "# Drop rows with 'gender' values that are not 'M' or 'F'\n",
    "df = df[df['sex'].isin(['M', 'F'])]\n",
    "\n",
    "\n",
    "print(df)"
   ]
  },
  {
   "cell_type": "code",
   "execution_count": 21,
   "id": "9ab84b7f",
   "metadata": {},
   "outputs": [
    {
     "data": {
      "text/plain": [
       "array(['M', 'F'], dtype=object)"
      ]
     },
     "execution_count": 21,
     "metadata": {},
     "output_type": "execute_result"
    }
   ],
   "source": [
    "# Check unique values in the \"sex\" column after cleaning\n",
    "df[\"sex\"].unique()"
   ]
  },
  {
   "cell_type": "code",
   "execution_count": 22,
   "id": "e5f74224",
   "metadata": {},
   "outputs": [
    {
     "data": {
      "text/plain": [
       "sex\n",
       "M    2092\n",
       "F     478\n",
       "Name: count, dtype: int64"
      ]
     },
     "execution_count": 22,
     "metadata": {},
     "output_type": "execute_result"
    }
   ],
   "source": [
    "df[\"sex\"].value_counts()"
   ]
  },
  {
   "cell_type": "code",
   "execution_count": 23,
   "id": "8e47c798",
   "metadata": {},
   "outputs": [],
   "source": [
    "import seaborn as sns\n",
    "import matplotlib.pyplot as plt\n",
    "\n",
    "sns.set(rc={'figure.figsize': (20,11)})"
   ]
  },
  {
   "cell_type": "code",
   "execution_count": 24,
   "id": "fcf1467a",
   "metadata": {},
   "outputs": [
    {
     "data": {
      "text/plain": [
       "<Axes: xlabel='sex', ylabel='Count'>"
      ]
     },
     "execution_count": 24,
     "metadata": {},
     "output_type": "execute_result"
    },
    {
     "data": {
      "image/png": "[encoded data removed]",
      "text/plain": [
       "<Figure size 2000x1100 with 1 Axes>"
      ]
     },
     "metadata": {},
     "output_type": "display_data"
    }
   ],
   "source": [
    "sns.histplot(data=df, x='sex')"
   ]
  },
  {
   "cell_type": "code",
   "execution_count": 27,
   "id": "eade6cef",
   "metadata": {},
   "outputs": [
    {
     "data": {
      "text/plain": [
       "array(['Unprovoked', ' Provoked', 'Provoked', 'Questionable',\n",
       "       'Watercraft', 'Sea Disaster', nan, '?', 'Unverified', 'Invalid',\n",
       "       'Under investigation'], dtype=object)"
      ]
     },
     "execution_count": 27,
     "metadata": {},
     "output_type": "execute_result"
    }
   ],
   "source": [
    "# Check unique values in the \"type\" column\n",
    "df[\"type\"].unique()"
   ]
  },
  {
   "cell_type": "code",
   "execution_count": 28,
   "id": "eede5b3e",
   "metadata": {},
   "outputs": [],
   "source": [
    "# Clean misspellings and inconsistencies in the \"type\" column\n",
    "misspellings_Pro = [' Provoked']\n",
    "for p in misspellings_Pro:\n",
    "    df[\"type\"] = df[\"type\"].replace(p, 'Provoked')\n",
    "misspellings_Uncertain = ['Questionable', 'Unconfirmed', '?', 'Invalid', 'Unverified', 'Under investigation']\n",
    "for u in misspellings_Uncertain:\n",
    "    df[\"type\"] = df[\"type\"].replace(u, 'Uncertain')\n",
    "\n",
    "df = df.dropna(subset=[\"type\"])"
   ]
  },
  {
   "cell_type": "code",
   "execution_count": 29,
   "id": "da91fb90",
   "metadata": {},
   "outputs": [
    {
     "data": {
      "text/plain": [
       "array(['Unprovoked', 'Provoked', 'Uncertain', 'Watercraft',\n",
       "       'Sea Disaster'], dtype=object)"
      ]
     },
     "execution_count": 29,
     "metadata": {},
     "output_type": "execute_result"
    }
   ],
   "source": [
    "# Check unique values in the \"type\" column after cleaning\n",
    "df[\"type\"].unique()"
   ]
  },
  {
   "cell_type": "code",
   "execution_count": 30,
   "id": "8aadab06",
   "metadata": {},
   "outputs": [
    {
     "data": {
      "text/plain": [
       "0"
      ]
     },
     "execution_count": 30,
     "metadata": {},
     "output_type": "execute_result"
    }
   ],
   "source": [
    "df[\"type\"].isnull().sum()"
   ]
  },
  {
   "cell_type": "code",
   "execution_count": 31,
   "id": "68ecbcef",
   "metadata": {},
   "outputs": [
    {
     "data": {
      "text/plain": [
       "type\n",
       "Unprovoked      2067\n",
       "Provoked         213\n",
       "Uncertain        185\n",
       "Watercraft        81\n",
       "Sea Disaster      10\n",
       "Name: count, dtype: int64"
      ]
     },
     "execution_count": 31,
     "metadata": {},
     "output_type": "execute_result"
    }
   ],
   "source": [
    "df[\"type\"].value_counts()"
   ]
  },
  {
   "cell_type": "code",
   "execution_count": 32,
   "id": "c6da586b",
   "metadata": {},
   "outputs": [
    {
     "data": {
      "text/plain": [
       "<Axes: xlabel='type', ylabel='Count'>"
      ]
     },
     "execution_count": 32,
     "metadata": {},
     "output_type": "execute_result"
    },
    {
     "data": {
      "image/png": "[encoded data removed]",
      "text/plain": [
       "<Figure size 2000x1100 with 1 Axes>"
      ]
     },
     "metadata": {},
     "output_type": "display_data"
    }
   ],
   "source": [
    "sns.histplot(data=df, x='type')"
   ]
  },
  {
   "cell_type": "code",
   "execution_count": 33,
   "id": "56479347",
   "metadata": {},
   "outputs": [
    {
     "data": {
      "text/plain": [
       "array(['Calf of lower left leg injured', 'Shoulder bitten',\n",
       "       'Right leg bitten', ..., 'Fingers bitten PROVOKED INCIDENT',\n",
       "       'No injury, wetsuit punctured',\n",
       "       'No injury to occupant; shark bit propeller'], dtype=object)"
      ]
     },
     "execution_count": 33,
     "metadata": {},
     "output_type": "execute_result"
    }
   ],
   "source": [
    "# Check unique values in the \"injury\" column\n",
    "df[\"injury\"].unique()"
   ]
  },
  {
   "cell_type": "code",
   "execution_count": 34,
   "id": "cdf337c1",
   "metadata": {},
   "outputs": [],
   "source": [
    "# Define lists of fatal\n",
    "fatals = ['FATAL', 'Fatal, bite to leg, shoulder and head', 'Presumed fatal, body not recovered', \n",
    "          'FATAL, Multiple injuries', 'Fatal attack', 'Presumed fatal  PROVOKED INCIDENT', \n",
    "         'FATAL, but death was probably due to drowning', \n",
    "          'Fatal, coroner unable to determine if the diver was alive or had drowned when incident took place.',\n",
    "         'FATAL, but shark involvement prior to death unconfirmed', \n",
    "         'FATAL, arm bitten by shark hauled on deck             PROVOKED INCIDENT',\n",
    "         'Thigh bitten, FATAL', 'Torso & righ arm bitten FATAL', 'FATAL    Severe bite to right thigh',\n",
    "         'Leg bitten, FATAL', \n",
    "          'FATAL        Only 4 of the 18 on board were rescued, some of the missing were allegedly killed by sharks',\n",
    "         'FATAL,  beaten & thrown overboard by smugglers, they  were killed by sharks', \n",
    "         'Left thigh bitten FATAL', 'Reportedly FATAL but few details', 'Severe bite to right leg FATAL',\n",
    "         'FATAL PROVOKED INCIDENT', 'FATAL, shark involvement prior to death is unconfirmed', 'FATAL, leg bitten',\n",
    "         'FATAL, abdomen, pelvis & leg bitten      ', 'FATAL, leg severed ', \n",
    "          'FATAL Severe wound to right thigh & calf', 'FATAL, right thigh & hip bitten   ',\n",
    "         'Presumed FATAL, severed hand recovered', \n",
    "         'Fatal, drowning or scavenging.  Two hours later his body, with bite marks,  washed ashore.', \n",
    "         'FATAL abdomen bitten', 'FATAL, left thigh, buttocks, back of spine, abdomen & chest bitten  ',\n",
    "         'FATAL          Hip & upper thigh bitten, femoral artery severed ', 'FATAL, body not recovered',\n",
    "         'FATAL, torso & leg bitten  ', 'Severe kacerations, FATAL', 'FATAL, lower thigh & knee severely lacerated ',\n",
    "         'FATAL or drowning & scavenging', 'FATAL, thigh bitten ', 'Fatal or drowned & remains scavenged by shark',\n",
    "         'FATAL, torso bitten, leg severed ', 'FATAL', 'FATAL, legs severed  ']\n"
   ]
  },
  {
   "cell_type": "code",
   "execution_count": 35,
   "id": "c17e2441",
   "metadata": {},
   "outputs": [],
   "source": [
    "# Function to categorize injuries as fatal or non-fatal\n",
    "def get_fatal(injury):\n",
    "    if injury in fatals:\n",
    "        return \"Fatal\"\n",
    "    else:\n",
    "        return \"Non-Fatal\""
   ]
  },
  {
   "cell_type": "code",
   "execution_count": 36,
   "id": "58ebcd15",
   "metadata": {},
   "outputs": [
    {
     "data": {
      "text/plain": [
       "array(['Non-Fatal', 'Fatal'], dtype=object)"
      ]
     },
     "execution_count": 36,
     "metadata": {},
     "output_type": "execute_result"
    }
   ],
   "source": [
    "# Apply the function to create a new column \"fatal\"\n",
    "df['fatal'] = df['injury'].apply(get_fatal)\n",
    "df['fatal'].unique()"
   ]
  },
  {
   "cell_type": "code",
   "execution_count": 39,
   "id": "dd484ee1",
   "metadata": {},
   "outputs": [
    {
     "data": {
      "text/plain": [
       "fatal\n",
       "Non-Fatal    2336\n",
       "Fatal         220\n",
       "Name: count, dtype: int64"
      ]
     },
     "execution_count": 39,
     "metadata": {},
     "output_type": "execute_result"
    }
   ],
   "source": [
    "df[\"fatal\"].value_counts()"
   ]
  },
  {
   "cell_type": "code",
   "execution_count": 40,
   "id": "50e8d379",
   "metadata": {},
   "outputs": [
    {
     "data": {
      "text/plain": [
       "<Axes: xlabel='fatal', ylabel='Count'>"
      ]
     },
     "execution_count": 40,
     "metadata": {},
     "output_type": "execute_result"
    },
    {
     "data": {
      "image/png": "[encoded data removed]",
      "text/plain": [
       "<Figure size 2000x1100 with 1 Axes>"
      ]
     },
     "metadata": {},
     "output_type": "display_data"
    }
   ],
   "source": [
    "sns.histplot(data=df, x='fatal')"
   ]
  },
  {
   "cell_type": "code",
   "execution_count": 108,
   "id": "5728250b",
   "metadata": {},
   "outputs": [
    {
     "data": {
      "text/plain": [
       "2"
      ]
     },
     "execution_count": 108,
     "metadata": {},
     "output_type": "execute_result"
    }
   ],
   "source": [
    "df[\"country\"].isnull().sum()"
   ]
  },
  {
   "cell_type": "code",
   "execution_count": 109,
   "id": "815a5132",
   "metadata": {},
   "outputs": [],
   "source": [
    "df = df.dropna(subset=[\"country\"])"
   ]
  },
  {
   "cell_type": "code",
   "execution_count": 110,
   "id": "5f2fdb53",
   "metadata": {},
   "outputs": [
    {
     "data": {
      "text/plain": [
       "country\n",
       "USA              1207\n",
       "AUSTRALIA         486\n",
       "SOUTH AFRICA      140\n",
       "BAHAMAS            75\n",
       "BRAZIL             57\n",
       "NEW ZEALAND        53\n",
       "MEXICO             37\n",
       "NEW CALEDONIA      33\n",
       "REUNION            31\n",
       "EGYPT              28\n",
       "Name: count, dtype: int64"
      ]
     },
     "execution_count": 110,
     "metadata": {},
     "output_type": "execute_result"
    }
   ],
   "source": [
    "df['country'].value_counts().sort_values(ascending=False).head(10)"
   ]
  },
  {
   "cell_type": "code",
   "execution_count": 111,
   "id": "cfc98660",
   "metadata": {},
   "outputs": [
    {
     "data": {
      "text/plain": [
       "<Axes: xlabel='country', ylabel='Count'>"
      ]
     },
     "execution_count": 111,
     "metadata": {},
     "output_type": "execute_result"
    },
    {
     "data": {
      "image/png": "[encoded data removed]",
      "text/plain": [
       "<Figure size 2000x1100 with 1 Axes>"
      ]
     },
     "metadata": {},
     "output_type": "display_data"
    }
   ],
   "source": [
    "sns.histplot(data=df, x='country')"
   ]
  },
  {
   "cell_type": "code",
   "execution_count": 112,
   "id": "582f4c3b",
   "metadata": {},
   "outputs": [],
   "source": [
    "# Assuming 'country' is the column containing country names\n",
    "top_10_countries = df['country'].value_counts().nlargest(10).index.tolist()"
   ]
  },
  {
   "cell_type": "code",
   "execution_count": 113,
   "id": "f71e4a01",
   "metadata": {},
   "outputs": [],
   "source": [
    "# Filter the DataFrame to include only the top 10 countries\n",
    "df_top_10 = df[df['country'].isin(top_10_countries)]"
   ]
  },
  {
   "cell_type": "code",
   "execution_count": 114,
   "id": "1ca81155",
   "metadata": {},
   "outputs": [
    {
     "data": {
      "text/plain": [
       "<Axes: xlabel='country', ylabel='Count'>"
      ]
     },
     "execution_count": 114,
     "metadata": {},
     "output_type": "execute_result"
    },
    {
     "data": {
      "image/png": "[encoded data removed]",
      "text/plain": [
       "<Figure size 2000x1100 with 1 Axes>"
      ]
     },
     "metadata": {},
     "output_type": "display_data"
    }
   ],
   "source": [
    "# Plot the histogram\n",
    "sns.histplot(data=df_top_10, x='country')"
   ]
  },
  {
   "cell_type": "code",
   "execution_count": null,
   "id": "d08cdc63",
   "metadata": {},
   "outputs": [],
   "source": []
  }
 ],
 "metadata": {
  "kernelspec": {
   "display_name": "Python 3 (ipykernel)",
   "language": "python",
   "name": "python3"
  },
  "language_info": {
   "codemirror_mode": {
    "name": "ipython",
    "version": 3
   },
   "file_extension": ".py",
   "mimetype": "text/x-python",
   "name": "python",
   "nbconvert_exporter": "python",
   "pygments_lexer": "ipython3",
   "version": "3.11.5"
  }
 },
 "nbformat": 4,
 "nbformat_minor": 5
}
