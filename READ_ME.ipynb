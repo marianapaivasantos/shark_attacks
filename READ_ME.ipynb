{
 "cells": [
  {
   "cell_type": "markdown",
   "id": "cd0f5bed",
   "metadata": {},
   "source": [
    "This project aimed to exercise the ability to clean and manipulate data for data analysis.\n",
    "## The specific objective is to answer the following questions:\n",
    "\t\tProblem statement: Are sharks really dangerous?\n",
    "\t\tHypotheses:\n",
    "#1. The majority of shark attacks are not fatal.\n",
    "#2. The majority of shark attacks were a result of the shark being provoked.\n",
    "#3. There are significant differences in the gender distribution of shark attack victims.\n",
    "#4. There are significant differences among countries regarding the number of shark attacks.\n",
    "#5. There are significant differences in the age distribution of shark attack victims.\n",
    "#6. The activities victims were engaged in are associated with the occurrence of shark attacks.\n",
    "## Source of dataset:\n",
    "The dataset was downloaded from the 'Global Shark Attack File' project on https://www.sharkattackfile.net/incidentlog.htm.\n",
    "\tConsidering the project is constantly updated, the file we used was downloaded on 26, 02, 2024. \n",
    "\tAiming for the most reliable data, we disregarded:\n",
    "\t- Registers before 2000;\n",
    "## Technology\n",
    "\t- Python 3.11.8\n",
    "## Services Used\n",
    "\t- GitHub\n",
    "## Python Libraries\n",
    "\t- Pandas\n",
    "\t- Numpy\n",
    "    - RegEx\n",
    "## Conclusion and Insights\n",
    "#1. The majority of shark attacks are not fatal. Supported by our analysis (Non-Fatal: 2336, Fatal: 220).\n",
    "#2. The majority of shark attacks were a result of the shark being provoked. Refuted by our analysis (Unprovoked: 2067, Provoked: 213, Uncertain: 185, Watercraft: 81, Sea Disaster: 10).\n",
    "#3. There are significant differences in the gender distribution of shark attack victims. Supported by our analysis (2092 males vs 478 females).\n",
    "#4. There are significant differences among countries regarding the number of shark attacks. Supported by our analysis (USA 1207, Australia 486, South Africa 140, Bahamas 75, Brazil 57, New Zealand 53, Mexico 37, New Caledonia 33, Reunion 31, Egypt 28).\n",
    "#5. There are significant differences in the age distribution of shark attack victims. Supported by our analysis (31 years old: 519, 15 years old: 80).\n",
    "#6. The activities victims were engaged in are associated with the occurrence of shark attacks. Supported by our analysis (Surfing: 887, Swimming: 527, Fishing: 382)."
   ]
  },
  {
   "cell_type": "code",
   "execution_count": null,
   "id": "38776c54",
   "metadata": {},
   "outputs": [],
   "source": []
  }
 ],
 "metadata": {
  "kernelspec": {
   "display_name": "Python 3 (ipykernel)",
   "language": "python",
   "name": "python3"
  },
  "language_info": {
   "codemirror_mode": {
    "name": "ipython",
    "version": 3
   },
   "file_extension": ".py",
   "mimetype": "text/x-python",
   "name": "python",
   "nbconvert_exporter": "python",
   "pygments_lexer": "ipython3",
   "version": "3.11.5"
  }
 },
 "nbformat": 4,
 "nbformat_minor": 5
}
